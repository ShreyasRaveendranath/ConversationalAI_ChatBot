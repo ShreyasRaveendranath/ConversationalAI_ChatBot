{
 "cells": [
  {
   "cell_type": "code",
   "execution_count": null,
   "metadata": {},
   "outputs": [],
   "source": [
    "import gym\n",
    "from gym import spaces\n",
    "import numpy as np\n",
    "from transformers import GPT2Tokenizer, GPT2LMHeadModel\n",
    "from datasets import load_dataset\n",
    "from transformers import GPT2LMHeadModel, GPT2Tokenizer, Trainer, TrainingArguments, DataCollatorForLanguageModeling\n",
    "from datasets import load_dataset\n",
    "from stable_baselines3 import PPO\n",
    "from stable_baselines3.common.vec_env import DummyVecEnv\n",
    "import torch\n",
    "from stable_baselines3 import PPO"
   ]
  },
  {
   "cell_type": "code",
   "execution_count": null,
   "metadata": {},
   "outputs": [],
   "source": [
    "dataset = load_dataset(\"squad\")\n",
    "print(dataset[\"train\"].column_names)"
   ]
  },
  {
   "cell_type": "code",
   "execution_count": null,
   "metadata": {},
   "outputs": [],
   "source": [
    "class ChatbotEnv(gym.Env):\n",
    "    def __init__(self, model, tokenizer, dataset):\n",
    "        super(ChatbotEnv, self).__init__()\n",
    "        self.model = model\n",
    "        self.tokenizer = tokenizer\n",
    "        self.dataset = dataset\n",
    "        self.current_index = 0\n",
    "        self.action_space = spaces.Discrete(2)  \n",
    "        self.observation_space = spaces.Box(low=0, high=1, shape=(512,), dtype=np.float32)\n",
    "\n",
    "    def step(self, action):\n",
    "        done = True\n",
    "        feedback = self.evaluate_response(action)\n",
    "        reward = feedback\n",
    "        return self._get_observation(), reward, done, {}\n",
    "\n",
    "    def reset(self):\n",
    "        self.current_index = 0\n",
    "        return self._get_observation()\n",
    "\n",
    "    def _get_observation(self):\n",
    "        sample = self.dataset[self.current_index]\n",
    "        self.current_index = (self.current_index + 1) % len(self.dataset)\n",
    "        observation = self.tokenizer.encode(sample['context'], return_tensors='pt').numpy()\n",
    "        padded_observation = np.zeros((512,), dtype=np.float32)  \n",
    "        padded_observation[:observation.size] = observation.flatten()  \n",
    "        return padded_observation\n",
    "\n",
    "    def evaluate_response(self, action):\n",
    "        return 1 if action == 1 else -1"
   ]
  },
  {
   "cell_type": "code",
   "execution_count": null,
   "metadata": {},
   "outputs": [],
   "source": [
    "model_name = \"gpt2\"\n",
    "model = GPT2LMHeadModel.from_pretrained(model_name)\n",
    "tokenizer = GPT2Tokenizer.from_pretrained(model_name)\n",
    "\n",
    "tokenizer.pad_token = tokenizer.eos_token\n",
    "tokenizer.pad_token_id = tokenizer.eos_token_id\n",
    "\n",
    "dataset = load_dataset(\"squad\")\n",
    "\n",
    "def tokenize_function(examples):\n",
    "    return tokenizer(examples[\"context\"], truncation=True, padding=\"max_length\", max_length=256) \n",
    "\n",
    "tokenized_datasets = dataset.map(tokenize_function, batched=True)\n",
    "\n",
    "data_collator = DataCollatorForLanguageModeling(\n",
    "    tokenizer=tokenizer,\n",
    "    mlm=False\n",
    ")\n",
    "\n",
    "training_args = TrainingArguments(\n",
    "    output_dir=\"./results\",\n",
    "    per_device_train_batch_size=1,  \n",
    "    num_train_epochs=0.01,  # Increase the epochs here for beeter results\n",
    "    #save_steps=10_000,\n",
    "    #save_total_limit=2,\n",
    "    gradient_accumulation_steps=4,  \n",
    ")\n",
    "\n",
    "class CustomTrainer(Trainer):\n",
    "    def compute_loss(self, model, inputs, return_outputs=False):\n",
    "        outputs = model(**inputs)\n",
    "        loss = outputs.get(\"loss\", None)\n",
    "        if loss is None:\n",
    "            raise ValueError(\"Model did not return loss\")\n",
    "        return (loss, outputs) if return_outputs else loss\n",
    "\n",
    "trainer = CustomTrainer(\n",
    "    model=model,\n",
    "    args=training_args,\n",
    "    data_collator=data_collator,\n",
    "    train_dataset=tokenized_datasets[\"train\"],\n",
    "    eval_dataset=tokenized_datasets[\"validation\"],\n",
    ")\n",
    "\n",
    "trainer.train()"
   ]
  },
  {
   "cell_type": "code",
   "execution_count": null,
   "metadata": {},
   "outputs": [],
   "source": [
    "env = DummyVecEnv([lambda: ChatbotEnv(model, tokenizer, tokenized_datasets['train'])])\n",
    "ppo = PPO(\"MlpPolicy\", env, verbose=1)\n",
    "ppo.learn(total_timesteps=10000)\n",
    "ppo.save(\"ppo_chatbot\")"
   ]
  },
  {
   "cell_type": "code",
   "execution_count": null,
   "metadata": {},
   "outputs": [],
   "source": [
    "ppo = PPO.load(\"ppo_chatbot\")\n",
    "\n",
    "def generate_response_with_rl(prompt):\n",
    "    device = torch.device(\"cuda:0\" if torch.cuda.is_available() else \"cpu\")\n",
    "    model.to(device)\n",
    "    inputs = tokenizer(prompt, return_tensors=\"pt\").to(device)\n",
    "    outputs = model.generate(inputs.input_ids, max_length=150, num_return_sequences=1)\n",
    "    response = tokenizer.decode(outputs[0], skip_special_tokens=True)\n",
    "    response_array = tokenizer.encode(response, return_tensors='pt').numpy().flatten()\n",
    "    response_array = np.pad(response_array, (0, 512 - response_array.size))  # Pad to expected shape\n",
    "    action, _states = ppo.predict(response_array)\n",
    "    return response, action\n",
    "\n",
    "prompt = \"Can you give me the instructions to reset my password\"\n",
    "response, action = generate_response_with_rl(prompt)\n",
    "print(\"Response:\", response)\n",
    "print(\"Action:\", action)\n"
   ]
  }
 ],
 "metadata": {
  "language_info": {
   "name": "python"
  }
 },
 "nbformat": 4,
 "nbformat_minor": 2
}
